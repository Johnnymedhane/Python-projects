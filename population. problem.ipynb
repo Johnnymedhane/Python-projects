{
 "cells": [
  {
   "cell_type": "code",
   "execution_count": 23,
   "id": "e4755fdd",
   "metadata": {},
   "outputs": [
    {
     "name": "stdout",
     "output_type": "stream",
     "text": [
      "pleas insert number to find out the current population2\n",
      "pleas insert number to find out the current population2\n"
     ]
    }
   ],
   "source": [
    "\n"
   ]
  },
  {
   "cell_type": "code",
   "execution_count": 4,
   "id": "f5b89a34",
   "metadata": {},
   "outputs": [
    {
     "name": "stdout",
     "output_type": "stream",
     "text": [
      "pleas insert number to find out the current population31536000\n",
      "93987845221606\n"
     ]
    }
   ],
   "source": [
    "#print(60*60*24*365= 31536000 ) #seconds in a year\n",
    "\n",
    "year = 31536000\n",
    "current_population = 307357870\n",
    "birth = 7 #every 7 sec\n",
    "death = 13 # every 13 sec\n",
    "immigration = 35 # every 35 sec\n",
    "num_years = int(input(\"pleas insert number to find out the current population\"))\n",
    "num_years = int(num_years*year)\n",
    "birth = int(num_years/birth)\n",
    "death = int(num_years/death)\n",
    "immigration = int(num_years/(immigration))\n",
    "#print(birth) # 4505142 in a year\n",
    "#print(death) # 2425846 in a year\n",
    "#print(immigration) # 901028 in a year\n",
    "#print(total_population)\n",
    "current_population =  int( current_population+ birth + immigration - death)\n",
    "\n",
    "print(current_population)\n",
    "# when i write, current_population =  307,357,870 + birth + immigration - death: the answer is wrong\n",
    "#birth and immigration added only  to the last numbers of current_population - 870 \n",
    "\n"
   ]
  },
  {
   "cell_type": "markdown",
   "id": "78a92907",
   "metadata": {},
   "source": []
  },
  {
   "cell_type": "code",
   "execution_count": null,
   "id": "43522100",
   "metadata": {},
   "outputs": [],
   "source": []
  }
 ],
 "metadata": {
  "kernelspec": {
   "display_name": "Python 3 (ipykernel)",
   "language": "python",
   "name": "python3"
  },
  "language_info": {
   "codemirror_mode": {
    "name": "ipython",
    "version": 3
   },
   "file_extension": ".py",
   "mimetype": "text/x-python",
   "name": "python",
   "nbconvert_exporter": "python",
   "pygments_lexer": "ipython3",
   "version": "3.9.7"
  }
 },
 "nbformat": 4,
 "nbformat_minor": 5
}
